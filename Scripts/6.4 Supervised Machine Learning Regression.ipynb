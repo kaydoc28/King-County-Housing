{
 "cells": [
  {
   "cell_type": "markdown",
   "id": "655552f4",
   "metadata": {},
   "source": [
    "# 6.4 Machine Learning Regression"
   ]
  },
  {
   "cell_type": "markdown",
   "id": "58744c72",
   "metadata": {},
   "source": [
    "### Contents:\n",
    "\n",
    "#### 1. Importing libraries and data\n",
    "#### 2. Data cleaning\n",
    "#### 3. Data prep for regression analysis\n",
    "#### 4. Regression analysis"
   ]
  },
  {
   "cell_type": "markdown",
   "id": "cf50bcc8",
   "metadata": {},
   "source": [
    "## 1. Importing Libraries and Data"
   ]
  },
  {
   "cell_type": "code",
   "execution_count": 1,
   "id": "8652446a",
   "metadata": {},
   "outputs": [],
   "source": [
    "import pandas as pd\n",
    "import numpy as np\n",
    "import seaborn as sns\n",
    "import matplotlib\n",
    "import matplotlib.pyplot as plt\n",
    "import os\n",
    "import sklearn\n",
    "from sklearn.model_selection import train_test_split \n",
    "from sklearn.linear_model import LinearRegression\n",
    "from sklearn.metrics import mean_squared_error, r2_score"
   ]
  },
  {
   "cell_type": "code",
   "execution_count": 2,
   "id": "859ab824",
   "metadata": {},
   "outputs": [],
   "source": [
    "# This option ensures that the graphs you create are displayed within the notebook without the need to \"call\" them specifically.\n",
    "\n",
    "%matplotlib inline"
   ]
  },
  {
   "cell_type": "code",
   "execution_count": 3,
   "id": "4c371c00",
   "metadata": {},
   "outputs": [],
   "source": [
    "#Define path\n",
    "path = r'C:\\Users\\kaydo\\OneDrive\\Desktop\\final'"
   ]
  },
  {
   "cell_type": "code",
   "execution_count": 4,
   "id": "ae4fd3e7",
   "metadata": {},
   "outputs": [],
   "source": [
    "# import housesales.csv\n",
    "\n",
    "df = pd.read_csv(os.path.join(path, 'Data', 'Prepared Data', 'housesales.csv'),index_col = False)"
   ]
  },
  {
   "cell_type": "markdown",
   "id": "bf67caba",
   "metadata": {},
   "source": [
    "## 2. Data Cleaning"
   ]
  },
  {
   "cell_type": "code",
   "execution_count": 5,
   "id": "d8f99f98",
   "metadata": {},
   "outputs": [
    {
     "data": {
      "text/plain": [
       "Index(['id', 'Date', 'price', 'bedrooms', 'bathrooms', 'sqft_lot', 'floors',\n",
       "       'waterfront', 'view', 'condition', 'sqft_basement', 'yr_built',\n",
       "       'yr_renovated', 'zipcode', 'lat', 'long'],\n",
       "      dtype='object')"
      ]
     },
     "execution_count": 5,
     "metadata": {},
     "output_type": "execute_result"
    }
   ],
   "source": [
    "df.columns"
   ]
  },
  {
   "cell_type": "code",
   "execution_count": 6,
   "id": "aa1ae7f1",
   "metadata": {},
   "outputs": [
    {
     "data": {
      "text/html": [
       "<div>\n",
       "<style scoped>\n",
       "    .dataframe tbody tr th:only-of-type {\n",
       "        vertical-align: middle;\n",
       "    }\n",
       "\n",
       "    .dataframe tbody tr th {\n",
       "        vertical-align: top;\n",
       "    }\n",
       "\n",
       "    .dataframe thead th {\n",
       "        text-align: right;\n",
       "    }\n",
       "</style>\n",
       "<table border=\"1\" class=\"dataframe\">\n",
       "  <thead>\n",
       "    <tr style=\"text-align: right;\">\n",
       "      <th></th>\n",
       "      <th>id</th>\n",
       "      <th>Date</th>\n",
       "      <th>price</th>\n",
       "      <th>bedrooms</th>\n",
       "      <th>bathrooms</th>\n",
       "      <th>sqft_lot</th>\n",
       "      <th>floors</th>\n",
       "      <th>waterfront</th>\n",
       "      <th>view</th>\n",
       "      <th>condition</th>\n",
       "      <th>sqft_basement</th>\n",
       "      <th>yr_built</th>\n",
       "      <th>yr_renovated</th>\n",
       "      <th>zipcode</th>\n",
       "      <th>lat</th>\n",
       "      <th>long</th>\n",
       "    </tr>\n",
       "  </thead>\n",
       "  <tbody>\n",
       "    <tr>\n",
       "      <th>0</th>\n",
       "      <td>2524049179</td>\n",
       "      <td>08/26/14</td>\n",
       "      <td>2000000</td>\n",
       "      <td>3</td>\n",
       "      <td>2.75</td>\n",
       "      <td>44867</td>\n",
       "      <td>1.0</td>\n",
       "      <td>0</td>\n",
       "      <td>4</td>\n",
       "      <td>3</td>\n",
       "      <td>720</td>\n",
       "      <td>1968</td>\n",
       "      <td>0</td>\n",
       "      <td>98040</td>\n",
       "      <td>47.5316</td>\n",
       "      <td>-122.233</td>\n",
       "    </tr>\n",
       "    <tr>\n",
       "      <th>1</th>\n",
       "      <td>7922800400</td>\n",
       "      <td>08/27/14</td>\n",
       "      <td>951000</td>\n",
       "      <td>5</td>\n",
       "      <td>3.25</td>\n",
       "      <td>14342</td>\n",
       "      <td>2.0</td>\n",
       "      <td>0</td>\n",
       "      <td>4</td>\n",
       "      <td>4</td>\n",
       "      <td>0</td>\n",
       "      <td>1968</td>\n",
       "      <td>0</td>\n",
       "      <td>98008</td>\n",
       "      <td>47.5880</td>\n",
       "      <td>-122.116</td>\n",
       "    </tr>\n",
       "    <tr>\n",
       "      <th>2</th>\n",
       "      <td>8096000060</td>\n",
       "      <td>04/13/15</td>\n",
       "      <td>655000</td>\n",
       "      <td>2</td>\n",
       "      <td>1.75</td>\n",
       "      <td>15798</td>\n",
       "      <td>2.0</td>\n",
       "      <td>1</td>\n",
       "      <td>4</td>\n",
       "      <td>3</td>\n",
       "      <td>220</td>\n",
       "      <td>1915</td>\n",
       "      <td>1978</td>\n",
       "      <td>98166</td>\n",
       "      <td>47.4497</td>\n",
       "      <td>-122.375</td>\n",
       "    </tr>\n",
       "    <tr>\n",
       "      <th>3</th>\n",
       "      <td>2025069065</td>\n",
       "      <td>09/29/14</td>\n",
       "      <td>2400000</td>\n",
       "      <td>4</td>\n",
       "      <td>2.50</td>\n",
       "      <td>8354</td>\n",
       "      <td>1.0</td>\n",
       "      <td>1</td>\n",
       "      <td>4</td>\n",
       "      <td>3</td>\n",
       "      <td>1820</td>\n",
       "      <td>2000</td>\n",
       "      <td>0</td>\n",
       "      <td>98074</td>\n",
       "      <td>47.6338</td>\n",
       "      <td>-122.072</td>\n",
       "    </tr>\n",
       "    <tr>\n",
       "      <th>4</th>\n",
       "      <td>2123039032</td>\n",
       "      <td>10/27/14</td>\n",
       "      <td>369900</td>\n",
       "      <td>1</td>\n",
       "      <td>0.75</td>\n",
       "      <td>10079</td>\n",
       "      <td>1.0</td>\n",
       "      <td>1</td>\n",
       "      <td>4</td>\n",
       "      <td>5</td>\n",
       "      <td>0</td>\n",
       "      <td>1936</td>\n",
       "      <td>0</td>\n",
       "      <td>98070</td>\n",
       "      <td>47.4683</td>\n",
       "      <td>-122.438</td>\n",
       "    </tr>\n",
       "    <tr>\n",
       "      <th>5</th>\n",
       "      <td>3225069065</td>\n",
       "      <td>06/24/14</td>\n",
       "      <td>3075000</td>\n",
       "      <td>4</td>\n",
       "      <td>5.00</td>\n",
       "      <td>18641</td>\n",
       "      <td>1.0</td>\n",
       "      <td>1</td>\n",
       "      <td>4</td>\n",
       "      <td>3</td>\n",
       "      <td>1950</td>\n",
       "      <td>2002</td>\n",
       "      <td>0</td>\n",
       "      <td>98074</td>\n",
       "      <td>47.6053</td>\n",
       "      <td>-122.077</td>\n",
       "    </tr>\n",
       "    <tr>\n",
       "      <th>6</th>\n",
       "      <td>1860600135</td>\n",
       "      <td>05/02/14</td>\n",
       "      <td>2384000</td>\n",
       "      <td>5</td>\n",
       "      <td>2.50</td>\n",
       "      <td>9050</td>\n",
       "      <td>2.0</td>\n",
       "      <td>0</td>\n",
       "      <td>4</td>\n",
       "      <td>5</td>\n",
       "      <td>280</td>\n",
       "      <td>1921</td>\n",
       "      <td>0</td>\n",
       "      <td>98119</td>\n",
       "      <td>47.6345</td>\n",
       "      <td>-122.367</td>\n",
       "    </tr>\n",
       "    <tr>\n",
       "      <th>7</th>\n",
       "      <td>1560930070</td>\n",
       "      <td>09/11/14</td>\n",
       "      <td>840000</td>\n",
       "      <td>4</td>\n",
       "      <td>3.50</td>\n",
       "      <td>40139</td>\n",
       "      <td>1.0</td>\n",
       "      <td>0</td>\n",
       "      <td>4</td>\n",
       "      <td>4</td>\n",
       "      <td>0</td>\n",
       "      <td>1986</td>\n",
       "      <td>0</td>\n",
       "      <td>98038</td>\n",
       "      <td>47.4010</td>\n",
       "      <td>-122.026</td>\n",
       "    </tr>\n",
       "    <tr>\n",
       "      <th>8</th>\n",
       "      <td>622049114</td>\n",
       "      <td>02/18/15</td>\n",
       "      <td>2125000</td>\n",
       "      <td>3</td>\n",
       "      <td>2.50</td>\n",
       "      <td>24069</td>\n",
       "      <td>2.0</td>\n",
       "      <td>1</td>\n",
       "      <td>4</td>\n",
       "      <td>4</td>\n",
       "      <td>0</td>\n",
       "      <td>1976</td>\n",
       "      <td>0</td>\n",
       "      <td>98166</td>\n",
       "      <td>47.4169</td>\n",
       "      <td>-122.348</td>\n",
       "    </tr>\n",
       "    <tr>\n",
       "      <th>9</th>\n",
       "      <td>2998800125</td>\n",
       "      <td>07/01/14</td>\n",
       "      <td>730000</td>\n",
       "      <td>2</td>\n",
       "      <td>2.25</td>\n",
       "      <td>4920</td>\n",
       "      <td>1.5</td>\n",
       "      <td>0</td>\n",
       "      <td>4</td>\n",
       "      <td>4</td>\n",
       "      <td>600</td>\n",
       "      <td>1941</td>\n",
       "      <td>0</td>\n",
       "      <td>98116</td>\n",
       "      <td>47.5730</td>\n",
       "      <td>-122.409</td>\n",
       "    </tr>\n",
       "    <tr>\n",
       "      <th>10</th>\n",
       "      <td>3760500116</td>\n",
       "      <td>11/20/14</td>\n",
       "      <td>3070000</td>\n",
       "      <td>3</td>\n",
       "      <td>2.50</td>\n",
       "      <td>55867</td>\n",
       "      <td>1.0</td>\n",
       "      <td>1</td>\n",
       "      <td>4</td>\n",
       "      <td>4</td>\n",
       "      <td>1600</td>\n",
       "      <td>1957</td>\n",
       "      <td>0</td>\n",
       "      <td>98034</td>\n",
       "      <td>47.7022</td>\n",
       "      <td>-122.224</td>\n",
       "    </tr>\n",
       "    <tr>\n",
       "      <th>11</th>\n",
       "      <td>1563102435</td>\n",
       "      <td>12/10/14</td>\n",
       "      <td>950000</td>\n",
       "      <td>3</td>\n",
       "      <td>1.75</td>\n",
       "      <td>4200</td>\n",
       "      <td>1.0</td>\n",
       "      <td>0</td>\n",
       "      <td>4</td>\n",
       "      <td>5</td>\n",
       "      <td>1010</td>\n",
       "      <td>1960</td>\n",
       "      <td>0</td>\n",
       "      <td>98116</td>\n",
       "      <td>47.5671</td>\n",
       "      <td>-122.405</td>\n",
       "    </tr>\n",
       "    <tr>\n",
       "      <th>12</th>\n",
       "      <td>9273200140</td>\n",
       "      <td>01/21/15</td>\n",
       "      <td>1310000</td>\n",
       "      <td>2</td>\n",
       "      <td>2.25</td>\n",
       "      <td>3938</td>\n",
       "      <td>2.0</td>\n",
       "      <td>0</td>\n",
       "      <td>4</td>\n",
       "      <td>3</td>\n",
       "      <td>1040</td>\n",
       "      <td>1991</td>\n",
       "      <td>0</td>\n",
       "      <td>98116</td>\n",
       "      <td>47.5912</td>\n",
       "      <td>-122.384</td>\n",
       "    </tr>\n",
       "    <tr>\n",
       "      <th>13</th>\n",
       "      <td>7855300200</td>\n",
       "      <td>03/19/15</td>\n",
       "      <td>1242500</td>\n",
       "      <td>4</td>\n",
       "      <td>2.75</td>\n",
       "      <td>8500</td>\n",
       "      <td>1.0</td>\n",
       "      <td>0</td>\n",
       "      <td>4</td>\n",
       "      <td>4</td>\n",
       "      <td>1200</td>\n",
       "      <td>1962</td>\n",
       "      <td>0</td>\n",
       "      <td>98006</td>\n",
       "      <td>47.5634</td>\n",
       "      <td>-122.156</td>\n",
       "    </tr>\n",
       "    <tr>\n",
       "      <th>14</th>\n",
       "      <td>7567600045</td>\n",
       "      <td>08/27/14</td>\n",
       "      <td>825000</td>\n",
       "      <td>2</td>\n",
       "      <td>1.00</td>\n",
       "      <td>12775</td>\n",
       "      <td>1.0</td>\n",
       "      <td>1</td>\n",
       "      <td>4</td>\n",
       "      <td>4</td>\n",
       "      <td>0</td>\n",
       "      <td>1908</td>\n",
       "      <td>0</td>\n",
       "      <td>98178</td>\n",
       "      <td>47.5020</td>\n",
       "      <td>-122.222</td>\n",
       "    </tr>\n",
       "    <tr>\n",
       "      <th>15</th>\n",
       "      <td>4055701200</td>\n",
       "      <td>04/21/15</td>\n",
       "      <td>1955000</td>\n",
       "      <td>4</td>\n",
       "      <td>2.75</td>\n",
       "      <td>7898</td>\n",
       "      <td>1.0</td>\n",
       "      <td>1</td>\n",
       "      <td>4</td>\n",
       "      <td>4</td>\n",
       "      <td>1560</td>\n",
       "      <td>1963</td>\n",
       "      <td>0</td>\n",
       "      <td>98034</td>\n",
       "      <td>47.7165</td>\n",
       "      <td>-122.259</td>\n",
       "    </tr>\n",
       "    <tr>\n",
       "      <th>16</th>\n",
       "      <td>8069000075</td>\n",
       "      <td>12/29/14</td>\n",
       "      <td>790000</td>\n",
       "      <td>4</td>\n",
       "      <td>1.75</td>\n",
       "      <td>10061</td>\n",
       "      <td>1.0</td>\n",
       "      <td>1</td>\n",
       "      <td>4</td>\n",
       "      <td>3</td>\n",
       "      <td>1050</td>\n",
       "      <td>1961</td>\n",
       "      <td>0</td>\n",
       "      <td>98178</td>\n",
       "      <td>47.5105</td>\n",
       "      <td>-122.238</td>\n",
       "    </tr>\n",
       "    <tr>\n",
       "      <th>17</th>\n",
       "      <td>1247600105</td>\n",
       "      <td>10/20/14</td>\n",
       "      <td>5110800</td>\n",
       "      <td>5</td>\n",
       "      <td>5.25</td>\n",
       "      <td>45517</td>\n",
       "      <td>2.0</td>\n",
       "      <td>1</td>\n",
       "      <td>4</td>\n",
       "      <td>3</td>\n",
       "      <td>2020</td>\n",
       "      <td>1999</td>\n",
       "      <td>0</td>\n",
       "      <td>98033</td>\n",
       "      <td>47.6767</td>\n",
       "      <td>-122.211</td>\n",
       "    </tr>\n",
       "    <tr>\n",
       "      <th>18</th>\n",
       "      <td>7558700030</td>\n",
       "      <td>04/13/15</td>\n",
       "      <td>5300000</td>\n",
       "      <td>6</td>\n",
       "      <td>6.00</td>\n",
       "      <td>24829</td>\n",
       "      <td>2.0</td>\n",
       "      <td>1</td>\n",
       "      <td>4</td>\n",
       "      <td>4</td>\n",
       "      <td>2390</td>\n",
       "      <td>1991</td>\n",
       "      <td>0</td>\n",
       "      <td>98040</td>\n",
       "      <td>47.5631</td>\n",
       "      <td>-122.210</td>\n",
       "    </tr>\n",
       "    <tr>\n",
       "      <th>19</th>\n",
       "      <td>1925069082</td>\n",
       "      <td>05/11/15</td>\n",
       "      <td>2200000</td>\n",
       "      <td>5</td>\n",
       "      <td>4.25</td>\n",
       "      <td>22703</td>\n",
       "      <td>2.0</td>\n",
       "      <td>1</td>\n",
       "      <td>4</td>\n",
       "      <td>5</td>\n",
       "      <td>1780</td>\n",
       "      <td>1952</td>\n",
       "      <td>0</td>\n",
       "      <td>98052</td>\n",
       "      <td>47.6393</td>\n",
       "      <td>-122.097</td>\n",
       "    </tr>\n",
       "  </tbody>\n",
       "</table>\n",
       "</div>"
      ],
      "text/plain": [
       "            id      Date    price  bedrooms  bathrooms  sqft_lot  floors  \\\n",
       "0   2524049179  08/26/14  2000000         3       2.75     44867     1.0   \n",
       "1   7922800400  08/27/14   951000         5       3.25     14342     2.0   \n",
       "2   8096000060  04/13/15   655000         2       1.75     15798     2.0   \n",
       "3   2025069065  09/29/14  2400000         4       2.50      8354     1.0   \n",
       "4   2123039032  10/27/14   369900         1       0.75     10079     1.0   \n",
       "5   3225069065  06/24/14  3075000         4       5.00     18641     1.0   \n",
       "6   1860600135  05/02/14  2384000         5       2.50      9050     2.0   \n",
       "7   1560930070  09/11/14   840000         4       3.50     40139     1.0   \n",
       "8    622049114  02/18/15  2125000         3       2.50     24069     2.0   \n",
       "9   2998800125  07/01/14   730000         2       2.25      4920     1.5   \n",
       "10  3760500116  11/20/14  3070000         3       2.50     55867     1.0   \n",
       "11  1563102435  12/10/14   950000         3       1.75      4200     1.0   \n",
       "12  9273200140  01/21/15  1310000         2       2.25      3938     2.0   \n",
       "13  7855300200  03/19/15  1242500         4       2.75      8500     1.0   \n",
       "14  7567600045  08/27/14   825000         2       1.00     12775     1.0   \n",
       "15  4055701200  04/21/15  1955000         4       2.75      7898     1.0   \n",
       "16  8069000075  12/29/14   790000         4       1.75     10061     1.0   \n",
       "17  1247600105  10/20/14  5110800         5       5.25     45517     2.0   \n",
       "18  7558700030  04/13/15  5300000         6       6.00     24829     2.0   \n",
       "19  1925069082  05/11/15  2200000         5       4.25     22703     2.0   \n",
       "\n",
       "    waterfront  view  condition  sqft_basement  yr_built  yr_renovated  \\\n",
       "0            0     4          3            720      1968             0   \n",
       "1            0     4          4              0      1968             0   \n",
       "2            1     4          3            220      1915          1978   \n",
       "3            1     4          3           1820      2000             0   \n",
       "4            1     4          5              0      1936             0   \n",
       "5            1     4          3           1950      2002             0   \n",
       "6            0     4          5            280      1921             0   \n",
       "7            0     4          4              0      1986             0   \n",
       "8            1     4          4              0      1976             0   \n",
       "9            0     4          4            600      1941             0   \n",
       "10           1     4          4           1600      1957             0   \n",
       "11           0     4          5           1010      1960             0   \n",
       "12           0     4          3           1040      1991             0   \n",
       "13           0     4          4           1200      1962             0   \n",
       "14           1     4          4              0      1908             0   \n",
       "15           1     4          4           1560      1963             0   \n",
       "16           1     4          3           1050      1961             0   \n",
       "17           1     4          3           2020      1999             0   \n",
       "18           1     4          4           2390      1991             0   \n",
       "19           1     4          5           1780      1952             0   \n",
       "\n",
       "    zipcode      lat     long  \n",
       "0     98040  47.5316 -122.233  \n",
       "1     98008  47.5880 -122.116  \n",
       "2     98166  47.4497 -122.375  \n",
       "3     98074  47.6338 -122.072  \n",
       "4     98070  47.4683 -122.438  \n",
       "5     98074  47.6053 -122.077  \n",
       "6     98119  47.6345 -122.367  \n",
       "7     98038  47.4010 -122.026  \n",
       "8     98166  47.4169 -122.348  \n",
       "9     98116  47.5730 -122.409  \n",
       "10    98034  47.7022 -122.224  \n",
       "11    98116  47.5671 -122.405  \n",
       "12    98116  47.5912 -122.384  \n",
       "13    98006  47.5634 -122.156  \n",
       "14    98178  47.5020 -122.222  \n",
       "15    98034  47.7165 -122.259  \n",
       "16    98178  47.5105 -122.238  \n",
       "17    98033  47.6767 -122.211  \n",
       "18    98040  47.5631 -122.210  \n",
       "19    98052  47.6393 -122.097  "
      ]
     },
     "execution_count": 6,
     "metadata": {},
     "output_type": "execute_result"
    }
   ],
   "source": [
    "df.head(20)"
   ]
  },
  {
   "cell_type": "code",
   "execution_count": 7,
   "id": "82e393c2",
   "metadata": {},
   "outputs": [
    {
     "data": {
      "text/plain": [
       "id               0\n",
       "Date             0\n",
       "price            0\n",
       "bedrooms         0\n",
       "bathrooms        0\n",
       "sqft_lot         0\n",
       "floors           0\n",
       "waterfront       0\n",
       "view             0\n",
       "condition        0\n",
       "sqft_basement    0\n",
       "yr_built         0\n",
       "yr_renovated     0\n",
       "zipcode          0\n",
       "lat              0\n",
       "long             0\n",
       "dtype: int64"
      ]
     },
     "execution_count": 7,
     "metadata": {},
     "output_type": "execute_result"
    }
   ],
   "source": [
    "# Check for missing values\n",
    "\n",
    "df.isnull().sum()"
   ]
  },
  {
   "cell_type": "code",
   "execution_count": 8,
   "id": "f221275a",
   "metadata": {},
   "outputs": [],
   "source": [
    "dups = df.duplicated()"
   ]
  },
  {
   "cell_type": "code",
   "execution_count": 9,
   "id": "0af4d59e",
   "metadata": {},
   "outputs": [
    {
     "data": {
      "text/plain": [
       "(21436,)"
      ]
     },
     "execution_count": 9,
     "metadata": {},
     "output_type": "execute_result"
    }
   ],
   "source": [
    "dups.shape"
   ]
  },
  {
   "cell_type": "markdown",
   "id": "ba20ac91",
   "metadata": {},
   "source": [
    "There are no missing or duplicated values."
   ]
  },
  {
   "cell_type": "code",
   "execution_count": 10,
   "id": "8e2190be",
   "metadata": {},
   "outputs": [
    {
     "name": "stderr",
     "output_type": "stream",
     "text": [
      "C:\\Users\\kaydo\\anaconda3\\lib\\site-packages\\seaborn\\distributions.py:2619: FutureWarning: `distplot` is a deprecated function and will be removed in a future version. Please adapt your code to use either `displot` (a figure-level function with similar flexibility) or `histplot` (an axes-level function for histograms).\n",
      "  warnings.warn(msg, FutureWarning)\n"
     ]
    },
    {
     "data": {
      "text/plain": [
       "<AxesSubplot:xlabel='price', ylabel='Density'>"
      ]
     },
     "execution_count": 10,
     "metadata": {},
     "output_type": "execute_result"
    },
    {
     "data": {
      "image/png": "[encoded data removed]",
      "text/plain": [
       "<Figure size 640x480 with 1 Axes>"
      ]
     },
     "metadata": {},
     "output_type": "display_data"
    }
   ],
   "source": [
    "sns.distplot(df['price'], bins=25) # Shows extreme values"
   ]
  },
  {
   "cell_type": "code",
   "execution_count": 11,
   "id": "7bd2b8b7",
   "metadata": {},
   "outputs": [
    {
     "data": {
      "text/plain": [
       "540529.2871804441"
      ]
     },
     "execution_count": 11,
     "metadata": {},
     "output_type": "execute_result"
    }
   ],
   "source": [
    "#check the mean\n",
    "\n",
    "df['price'].mean()"
   ]
  },
  {
   "cell_type": "code",
   "execution_count": 12,
   "id": "e9e3668a",
   "metadata": {},
   "outputs": [
    {
     "data": {
      "text/plain": [
       "450000.0"
      ]
     },
     "execution_count": 12,
     "metadata": {},
     "output_type": "execute_result"
    }
   ],
   "source": [
    "#check the median\n",
    "\n",
    "df['price'].median()"
   ]
  },
  {
   "cell_type": "code",
   "execution_count": 13,
   "id": "f3a1e8d1",
   "metadata": {},
   "outputs": [
    {
     "data": {
      "text/plain": [
       "7700000"
      ]
     },
     "execution_count": 13,
     "metadata": {},
     "output_type": "execute_result"
    }
   ],
   "source": [
    "#check the max\n",
    "\n",
    "df['price'].max()"
   ]
  },
  {
   "cell_type": "markdown",
   "id": "f16f3df1",
   "metadata": {},
   "source": [
    "## 3. Data Prep for Regression Analysis"
   ]
  },
  {
   "cell_type": "code",
   "execution_count": 14,
   "id": "0107d035",
   "metadata": {},
   "outputs": [
    {
     "data": {
      "image/png": "[encoded data removed]",
      "text/plain": [
       "<Figure size 640x480 with 1 Axes>"
      ]
     },
     "metadata": {},
     "output_type": "display_data"
    }
   ],
   "source": [
    "# Create a scatterplot using matplotlib for another look at how the chosen variables plot against each other.\n",
    "\n",
    "df.plot(x = 'sqft_lot', y='price',style='o')\n",
    "plt.title('Sqft_lot VS Price')  \n",
    "plt.xlabel('sqft_lot')  \n",
    "plt.ylabel('price')  \n",
    "plt.show()"
   ]
  },
  {
   "cell_type": "markdown",
   "id": "821f28db",
   "metadata": {},
   "source": [
    "### Hypothesis: If there are more bathrooms within a house, the price of the house will go up."
   ]
  },
  {
   "cell_type": "code",
   "execution_count": 15,
   "id": "ef486c0d",
   "metadata": {},
   "outputs": [],
   "source": [
    "# Reshape the variables into NumPy arrays and put them into separate objects.\n",
    "\n",
    "X = df['sqft_lot'].values.reshape(-1,1)\n",
    "y = df['price'].values.reshape(-1,1)"
   ]
  },
  {
   "cell_type": "code",
   "execution_count": 16,
   "id": "495707fd",
   "metadata": {},
   "outputs": [
    {
     "data": {
      "text/plain": [
       "array([[44867],\n",
       "       [14342],\n",
       "       [15798],\n",
       "       ...,\n",
       "       [ 1350],\n",
       "       [ 2388],\n",
       "       [ 1076]], dtype=int64)"
      ]
     },
     "execution_count": 16,
     "metadata": {},
     "output_type": "execute_result"
    }
   ],
   "source": [
    "X"
   ]
  },
  {
   "cell_type": "code",
   "execution_count": 17,
   "id": "0660daa5",
   "metadata": {},
   "outputs": [
    {
     "data": {
      "text/plain": [
       "array([[2000000],\n",
       "       [ 951000],\n",
       "       [ 655000],\n",
       "       ...,\n",
       "       [ 402101],\n",
       "       [ 400000],\n",
       "       [ 325000]], dtype=int64)"
      ]
     },
     "execution_count": 17,
     "metadata": {},
     "output_type": "execute_result"
    }
   ],
   "source": [
    "y"
   ]
  },
  {
   "cell_type": "code",
   "execution_count": 18,
   "id": "e00a880e",
   "metadata": {},
   "outputs": [],
   "source": [
    "# Split data into a training set and a test set.\n",
    "\n",
    "X_train, X_test, y_train, y_test = train_test_split(X, y, test_size=0.3, random_state=0)"
   ]
  },
  {
   "cell_type": "markdown",
   "id": "e32b24c8",
   "metadata": {},
   "source": [
    "## 4. Regression Analysis"
   ]
  },
  {
   "cell_type": "code",
   "execution_count": 19,
   "id": "939378ee",
   "metadata": {},
   "outputs": [],
   "source": [
    "# Create a regression object.\n",
    "\n",
    "regression = LinearRegression() "
   ]
  },
  {
   "cell_type": "code",
   "execution_count": 20,
   "id": "71a3586f",
   "metadata": {},
   "outputs": [
    {
     "data": {
      "text/plain": [
       "LinearRegression()"
      ]
     },
     "execution_count": 20,
     "metadata": {},
     "output_type": "execute_result"
    }
   ],
   "source": [
    "# Fit the regression object onto the training set.\n",
    "\n",
    "regression.fit(X_train, y_train)"
   ]
  },
  {
   "cell_type": "code",
   "execution_count": 21,
   "id": "06507ec4",
   "metadata": {},
   "outputs": [],
   "source": [
    "# Predict the values of y using X.\n",
    "\n",
    "y_predicted = regression.predict(X_test)"
   ]
  },
  {
   "cell_type": "code",
   "execution_count": 22,
   "id": "4ce761de",
   "metadata": {},
   "outputs": [
    {
     "data": {
      "image/png": "[encoded data removed]",
      "text/plain": [
       "<Figure size 640x480 with 1 Axes>"
      ]
     },
     "metadata": {},
     "output_type": "display_data"
    }
   ],
   "source": [
    "# Create a plot that shows the regression line from the model on the test set.\n",
    "\n",
    "plot_test = plt\n",
    "plot_test.scatter(X_test, y_test, color='gray', s = 15)\n",
    "plot_test.plot(X_test, y_predicted, color='red', linewidth =3)\n",
    "plot_test.title('Sqft_lot VS Price (Test set)')\n",
    "plot_test.xlabel('sqft_lot')\n",
    "plot_test.ylabel('price')\n",
    "plot_test.show()"
   ]
  },
  {
   "cell_type": "markdown",
   "id": "5318cab3",
   "metadata": {},
   "source": [
    "### Line Interpretation: There is a positive relationship between the sqft_lot and the price of the estate. \n"
   ]
  },
  {
   "cell_type": "code",
   "execution_count": 23,
   "id": "09aa04ea",
   "metadata": {},
   "outputs": [],
   "source": [
    "# Create model summary statistics.\n",
    "\n",
    "rmse = mean_squared_error(y_test, y_predicted) \n",
    "r2 = r2_score(y_test, y_predicted) "
   ]
  },
  {
   "cell_type": "code",
   "execution_count": 24,
   "id": "bfce3102",
   "metadata": {},
   "outputs": [
    {
     "name": "stdout",
     "output_type": "stream",
     "text": [
      "Slope: [[0.74699207]]\n",
      "Mean squared error:  125486653093.15892\n",
      "R2 score:  0.009562289108826505\n"
     ]
    }
   ],
   "source": [
    "# Print the model summary statistics. This is where you evaluate the performance of the model.\n",
    "\n",
    "print('Slope:' ,regression.coef_)\n",
    "print('Mean squared error: ', rmse)\n",
    "print('R2 score: ', r2)"
   ]
  },
  {
   "cell_type": "markdown",
   "id": "4fd34e72",
   "metadata": {},
   "source": [
    "### Interpretation: Although there is a positive slope, the MSE remains high and the R2 score is considerably low.  "
   ]
  },
  {
   "cell_type": "code",
   "execution_count": 25,
   "id": "6fcb507c",
   "metadata": {},
   "outputs": [
    {
     "data": {
      "text/plain": [
       "array([[598744.51824017],\n",
       "       [543234.79082249],\n",
       "       [536586.56143496],\n",
       "       ...,\n",
       "       [538222.47405953],\n",
       "       [533335.65196366],\n",
       "       [535466.07333593]])"
      ]
     },
     "execution_count": 25,
     "metadata": {},
     "output_type": "execute_result"
    }
   ],
   "source": [
    "y_predicted"
   ]
  },
  {
   "cell_type": "code",
   "execution_count": 26,
   "id": "ed8715fe",
   "metadata": {},
   "outputs": [
    {
     "data": {
      "text/html": [
       "<div>\n",
       "<style scoped>\n",
       "    .dataframe tbody tr th:only-of-type {\n",
       "        vertical-align: middle;\n",
       "    }\n",
       "\n",
       "    .dataframe tbody tr th {\n",
       "        vertical-align: top;\n",
       "    }\n",
       "\n",
       "    .dataframe thead th {\n",
       "        text-align: right;\n",
       "    }\n",
       "</style>\n",
       "<table border=\"1\" class=\"dataframe\">\n",
       "  <thead>\n",
       "    <tr style=\"text-align: right;\">\n",
       "      <th></th>\n",
       "      <th>Actual</th>\n",
       "      <th>Predicted</th>\n",
       "    </tr>\n",
       "  </thead>\n",
       "  <tbody>\n",
       "    <tr>\n",
       "      <th>0</th>\n",
       "      <td>495000</td>\n",
       "      <td>598744.518240</td>\n",
       "    </tr>\n",
       "    <tr>\n",
       "      <th>1</th>\n",
       "      <td>370000</td>\n",
       "      <td>543234.790822</td>\n",
       "    </tr>\n",
       "    <tr>\n",
       "      <th>2</th>\n",
       "      <td>802000</td>\n",
       "      <td>536586.561435</td>\n",
       "    </tr>\n",
       "    <tr>\n",
       "      <th>3</th>\n",
       "      <td>265000</td>\n",
       "      <td>537369.409120</td>\n",
       "    </tr>\n",
       "    <tr>\n",
       "      <th>4</th>\n",
       "      <td>899900</td>\n",
       "      <td>533007.722447</td>\n",
       "    </tr>\n",
       "    <tr>\n",
       "      <th>5</th>\n",
       "      <td>333000</td>\n",
       "      <td>535454.121463</td>\n",
       "    </tr>\n",
       "    <tr>\n",
       "      <th>6</th>\n",
       "      <td>212500</td>\n",
       "      <td>540844.416211</td>\n",
       "    </tr>\n",
       "    <tr>\n",
       "      <th>7</th>\n",
       "      <td>279000</td>\n",
       "      <td>535606.507844</td>\n",
       "    </tr>\n",
       "    <tr>\n",
       "      <th>8</th>\n",
       "      <td>499000</td>\n",
       "      <td>535690.170956</td>\n",
       "    </tr>\n",
       "    <tr>\n",
       "      <th>9</th>\n",
       "      <td>405000</td>\n",
       "      <td>536138.366195</td>\n",
       "    </tr>\n",
       "    <tr>\n",
       "      <th>10</th>\n",
       "      <td>325000</td>\n",
       "      <td>535991.955750</td>\n",
       "    </tr>\n",
       "    <tr>\n",
       "      <th>11</th>\n",
       "      <td>828950</td>\n",
       "      <td>534330.645396</td>\n",
       "    </tr>\n",
       "    <tr>\n",
       "      <th>12</th>\n",
       "      <td>285000</td>\n",
       "      <td>534885.660501</td>\n",
       "    </tr>\n",
       "    <tr>\n",
       "      <th>13</th>\n",
       "      <td>695000</td>\n",
       "      <td>539098.695753</td>\n",
       "    </tr>\n",
       "    <tr>\n",
       "      <th>14</th>\n",
       "      <td>462500</td>\n",
       "      <td>535533.302622</td>\n",
       "    </tr>\n",
       "    <tr>\n",
       "      <th>15</th>\n",
       "      <td>239950</td>\n",
       "      <td>534569.682857</td>\n",
       "    </tr>\n",
       "    <tr>\n",
       "      <th>16</th>\n",
       "      <td>350000</td>\n",
       "      <td>534031.848569</td>\n",
       "    </tr>\n",
       "    <tr>\n",
       "      <th>17</th>\n",
       "      <td>340000</td>\n",
       "      <td>536623.911038</td>\n",
       "    </tr>\n",
       "    <tr>\n",
       "      <th>18</th>\n",
       "      <td>655000</td>\n",
       "      <td>534009.438807</td>\n",
       "    </tr>\n",
       "    <tr>\n",
       "      <th>19</th>\n",
       "      <td>330000</td>\n",
       "      <td>548796.893746</td>\n",
       "    </tr>\n",
       "    <tr>\n",
       "      <th>20</th>\n",
       "      <td>452000</td>\n",
       "      <td>533075.698725</td>\n",
       "    </tr>\n",
       "    <tr>\n",
       "      <th>21</th>\n",
       "      <td>556000</td>\n",
       "      <td>556561.129280</td>\n",
       "    </tr>\n",
       "    <tr>\n",
       "      <th>22</th>\n",
       "      <td>400000</td>\n",
       "      <td>537273.794136</td>\n",
       "    </tr>\n",
       "    <tr>\n",
       "      <th>23</th>\n",
       "      <td>300000</td>\n",
       "      <td>539798.627319</td>\n",
       "    </tr>\n",
       "    <tr>\n",
       "      <th>24</th>\n",
       "      <td>823000</td>\n",
       "      <td>537426.927509</td>\n",
       "    </tr>\n",
       "    <tr>\n",
       "      <th>25</th>\n",
       "      <td>480000</td>\n",
       "      <td>536038.269259</td>\n",
       "    </tr>\n",
       "    <tr>\n",
       "      <th>26</th>\n",
       "      <td>626000</td>\n",
       "      <td>531262.001988</td>\n",
       "    </tr>\n",
       "    <tr>\n",
       "      <th>27</th>\n",
       "      <td>390000</td>\n",
       "      <td>587514.239520</td>\n",
       "    </tr>\n",
       "    <tr>\n",
       "      <th>28</th>\n",
       "      <td>530000</td>\n",
       "      <td>541356.852769</td>\n",
       "    </tr>\n",
       "    <tr>\n",
       "      <th>29</th>\n",
       "      <td>360000</td>\n",
       "      <td>531016.988591</td>\n",
       "    </tr>\n",
       "  </tbody>\n",
       "</table>\n",
       "</div>"
      ],
      "text/plain": [
       "    Actual      Predicted\n",
       "0   495000  598744.518240\n",
       "1   370000  543234.790822\n",
       "2   802000  536586.561435\n",
       "3   265000  537369.409120\n",
       "4   899900  533007.722447\n",
       "5   333000  535454.121463\n",
       "6   212500  540844.416211\n",
       "7   279000  535606.507844\n",
       "8   499000  535690.170956\n",
       "9   405000  536138.366195\n",
       "10  325000  535991.955750\n",
       "11  828950  534330.645396\n",
       "12  285000  534885.660501\n",
       "13  695000  539098.695753\n",
       "14  462500  535533.302622\n",
       "15  239950  534569.682857\n",
       "16  350000  534031.848569\n",
       "17  340000  536623.911038\n",
       "18  655000  534009.438807\n",
       "19  330000  548796.893746\n",
       "20  452000  533075.698725\n",
       "21  556000  556561.129280\n",
       "22  400000  537273.794136\n",
       "23  300000  539798.627319\n",
       "24  823000  537426.927509\n",
       "25  480000  536038.269259\n",
       "26  626000  531262.001988\n",
       "27  390000  587514.239520\n",
       "28  530000  541356.852769\n",
       "29  360000  531016.988591"
      ]
     },
     "execution_count": 26,
     "metadata": {},
     "output_type": "execute_result"
    }
   ],
   "source": [
    "# Create a dataframe comparing the actual and predicted values of y.\n",
    "\n",
    "data = pd.DataFrame({'Actual': y_test.flatten(), 'Predicted': y_predicted.flatten()})\n",
    "data.head(30)"
   ]
  },
  {
   "cell_type": "markdown",
   "id": "d6b53937",
   "metadata": {},
   "source": [
    "### Interpretation: When comparing actuals to predicted values the predicted values are very off base and not close to the actuals on most accounts. I would say this model is not performing very accurately. After further analysis this would DISPROVE my hypothesis of, If there are more bathrooms, the price of the estate will go up. "
   ]
  },
  {
   "cell_type": "code",
   "execution_count": 27,
   "id": "58c32031",
   "metadata": {},
   "outputs": [],
   "source": [
    "# Predict.\n",
    "\n",
    "y_predicted_train = regression.predict(X_train)"
   ]
  },
  {
   "cell_type": "code",
   "execution_count": 28,
   "id": "4f4e2a33",
   "metadata": {},
   "outputs": [],
   "source": [
    "rmse = mean_squared_error(y_train, y_predicted_train)\n",
    "r2 = r2_score(y_train, y_predicted_train)"
   ]
  },
  {
   "cell_type": "code",
   "execution_count": 29,
   "id": "7385380a",
   "metadata": {},
   "outputs": [
    {
     "name": "stdout",
     "output_type": "stream",
     "text": [
      "Slope: [[0.74699207]]\n",
      "Mean squared error:  137826316110.15213\n",
      "R2 score:  0.007195253508847421\n"
     ]
    }
   ],
   "source": [
    "print('Slope:' ,regression.coef_)\n",
    "print('Mean squared error: ', rmse)\n",
    "print('R2 score: ', r2)"
   ]
  },
  {
   "cell_type": "code",
   "execution_count": 30,
   "id": "07a60960",
   "metadata": {},
   "outputs": [
    {
     "data": {
      "image/png": "[encoded data removed]",
      "text/plain": [
       "<Figure size 640x480 with 1 Axes>"
      ]
     },
     "metadata": {},
     "output_type": "display_data"
    }
   ],
   "source": [
    "# Visualizing the training set results.\n",
    "\n",
    "plot_test = plt\n",
    "plot_test.scatter(X_train, y_train, color='green', s = 15)\n",
    "plot_test.plot(X_train, y_predicted_train, color='red', linewidth =3)\n",
    "plot_test.title('Sqft_lot VS Price (Train set)')\n",
    "plot_test.xlabel('sqft_lot')\n",
    "plot_test.ylabel('price')\n",
    "plot_test.show()"
   ]
  },
  {
   "cell_type": "code",
   "execution_count": null,
   "id": "e62d7aaf",
   "metadata": {},
   "outputs": [],
   "source": []
  }
 ],
 "metadata": {
  "kernelspec": {
   "display_name": "Python 3 (ipykernel)",
   "language": "python",
   "name": "python3"
  },
  "language_info": {
   "codemirror_mode": {
    "name": "ipython",
    "version": 3
   },
   "file_extension": ".py",
   "mimetype": "text/x-python",
   "name": "python",
   "nbconvert_exporter": "python",
   "pygments_lexer": "ipython3",
   "version": "3.9.13"
  }
 },
 "nbformat": 4,
 "nbformat_minor": 5
}
