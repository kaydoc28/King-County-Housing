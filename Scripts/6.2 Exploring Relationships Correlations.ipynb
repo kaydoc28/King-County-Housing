{
 "cells": [
  {
   "cell_type": "markdown",
   "id": "fbc829b4",
   "metadata": {},
   "source": [
    "# 6.2 Exploring Relationships and Correlations\n",
    "\n",
    "#### 1. Importing Visualization Libraries and Data\n",
    "#### 2. Data Cleaning\n",
    "#### 2. Exploring Relationships\n",
    "     Correlations\n",
    "     Scatterplots\n",
    "     Pair Plots\n",
    "     Categorical Plots"
   ]
  },
  {
   "cell_type": "markdown",
   "id": "6a502e52",
   "metadata": {},
   "source": [
    "## 1. Importing Visualization Libraries and Data"
   ]
  },
  {
   "cell_type": "code",
   "execution_count": 1,
   "id": "b0210b09",
   "metadata": {},
   "outputs": [],
   "source": [
    "import pandas as pd\n",
    "import numpy as np\n",
    "import seaborn as sns\n",
    "import matplotlib.pyplot as plt\n",
    "import matplotlib\n",
    "import os"
   ]
  },
  {
   "cell_type": "code",
   "execution_count": 2,
   "id": "c36bbf50",
   "metadata": {},
   "outputs": [
    {
     "data": {
      "text/plain": [
       "'3.5.2'"
      ]
     },
     "execution_count": 2,
     "metadata": {},
     "output_type": "execute_result"
    }
   ],
   "source": [
    "matplotlib.__version__"
   ]
  },
  {
   "cell_type": "code",
   "execution_count": 3,
   "id": "c6ffd19c",
   "metadata": {},
   "outputs": [],
   "source": [
    "# This option ensures the charts you create are displayed in the notebook without the need to \"call\" them specifically.\n",
    "\n",
    "%matplotlib inline"
   ]
  },
  {
   "cell_type": "code",
   "execution_count": 4,
   "id": "50dfd872",
   "metadata": {},
   "outputs": [],
   "source": [
    "#Define path\n",
    "path = r'C:\\Users\\kaydo\\OneDrive\\Desktop\\final'"
   ]
  },
  {
   "cell_type": "code",
   "execution_count": 5,
   "id": "25bad099",
   "metadata": {},
   "outputs": [],
   "source": [
    "# import housesales.csv\n",
    "\n",
    "df = pd.read_csv(os.path.join(path, 'Data', 'Prepared Data', 'housesales.csv'),index_col = False)"
   ]
  },
  {
   "cell_type": "markdown",
   "id": "a5305ba2",
   "metadata": {},
   "source": [
    "## Data Cleaning"
   ]
  },
  {
   "cell_type": "code",
   "execution_count": 6,
   "id": "d7692936",
   "metadata": {},
   "outputs": [
    {
     "data": {
      "text/plain": [
       "Index(['id', 'Date', 'price', 'bedrooms', 'bathrooms', 'sqft_lot', 'floors',\n",
       "       'waterfront', 'view', 'condition', 'sqft_basement', 'yr_built',\n",
       "       'yr_renovated', 'zipcode', 'lat', 'long'],\n",
       "      dtype='object')"
      ]
     },
     "execution_count": 6,
     "metadata": {},
     "output_type": "execute_result"
    }
   ],
   "source": [
    "df.columns"
   ]
  },
  {
   "cell_type": "code",
   "execution_count": 7,
   "id": "c28cbfaa",
   "metadata": {},
   "outputs": [
    {
     "data": {
      "text/plain": [
       "id                 int64\n",
       "Date              object\n",
       "price              int64\n",
       "bedrooms           int64\n",
       "bathrooms        float64\n",
       "sqft_lot           int64\n",
       "floors           float64\n",
       "waterfront         int64\n",
       "view               int64\n",
       "condition          int64\n",
       "sqft_basement      int64\n",
       "yr_built           int64\n",
       "yr_renovated       int64\n",
       "zipcode            int64\n",
       "lat              float64\n",
       "long             float64\n",
       "dtype: object"
      ]
     },
     "execution_count": 7,
     "metadata": {},
     "output_type": "execute_result"
    }
   ],
   "source": [
    "df.dtypes"
   ]
  },
  {
   "cell_type": "code",
   "execution_count": 8,
   "id": "6b775178",
   "metadata": {},
   "outputs": [
    {
     "data": {
      "text/html": [
       "<div>\n",
       "<style scoped>\n",
       "    .dataframe tbody tr th:only-of-type {\n",
       "        vertical-align: middle;\n",
       "    }\n",
       "\n",
       "    .dataframe tbody tr th {\n",
       "        vertical-align: top;\n",
       "    }\n",
       "\n",
       "    .dataframe thead th {\n",
       "        text-align: right;\n",
       "    }\n",
       "</style>\n",
       "<table border=\"1\" class=\"dataframe\">\n",
       "  <thead>\n",
       "    <tr style=\"text-align: right;\">\n",
       "      <th></th>\n",
       "      <th>id</th>\n",
       "      <th>Date</th>\n",
       "      <th>price</th>\n",
       "      <th>bedrooms</th>\n",
       "      <th>bathrooms</th>\n",
       "      <th>sqft_lot</th>\n",
       "      <th>floors</th>\n",
       "      <th>waterfront</th>\n",
       "      <th>view</th>\n",
       "      <th>condition</th>\n",
       "      <th>sqft_basement</th>\n",
       "      <th>yr_built</th>\n",
       "      <th>yr_renovated</th>\n",
       "      <th>zipcode</th>\n",
       "      <th>lat</th>\n",
       "      <th>long</th>\n",
       "    </tr>\n",
       "  </thead>\n",
       "  <tbody>\n",
       "    <tr>\n",
       "      <th>0</th>\n",
       "      <td>2524049179</td>\n",
       "      <td>08/26/14</td>\n",
       "      <td>2000000</td>\n",
       "      <td>3</td>\n",
       "      <td>2.75</td>\n",
       "      <td>44867</td>\n",
       "      <td>1.0</td>\n",
       "      <td>0</td>\n",
       "      <td>4</td>\n",
       "      <td>3</td>\n",
       "      <td>720</td>\n",
       "      <td>1968</td>\n",
       "      <td>0</td>\n",
       "      <td>98040</td>\n",
       "      <td>47.5316</td>\n",
       "      <td>-122.233</td>\n",
       "    </tr>\n",
       "    <tr>\n",
       "      <th>1</th>\n",
       "      <td>7922800400</td>\n",
       "      <td>08/27/14</td>\n",
       "      <td>951000</td>\n",
       "      <td>5</td>\n",
       "      <td>3.25</td>\n",
       "      <td>14342</td>\n",
       "      <td>2.0</td>\n",
       "      <td>0</td>\n",
       "      <td>4</td>\n",
       "      <td>4</td>\n",
       "      <td>0</td>\n",
       "      <td>1968</td>\n",
       "      <td>0</td>\n",
       "      <td>98008</td>\n",
       "      <td>47.5880</td>\n",
       "      <td>-122.116</td>\n",
       "    </tr>\n",
       "    <tr>\n",
       "      <th>2</th>\n",
       "      <td>8096000060</td>\n",
       "      <td>04/13/15</td>\n",
       "      <td>655000</td>\n",
       "      <td>2</td>\n",
       "      <td>1.75</td>\n",
       "      <td>15798</td>\n",
       "      <td>2.0</td>\n",
       "      <td>1</td>\n",
       "      <td>4</td>\n",
       "      <td>3</td>\n",
       "      <td>220</td>\n",
       "      <td>1915</td>\n",
       "      <td>1978</td>\n",
       "      <td>98166</td>\n",
       "      <td>47.4497</td>\n",
       "      <td>-122.375</td>\n",
       "    </tr>\n",
       "    <tr>\n",
       "      <th>3</th>\n",
       "      <td>2025069065</td>\n",
       "      <td>09/29/14</td>\n",
       "      <td>2400000</td>\n",
       "      <td>4</td>\n",
       "      <td>2.50</td>\n",
       "      <td>8354</td>\n",
       "      <td>1.0</td>\n",
       "      <td>1</td>\n",
       "      <td>4</td>\n",
       "      <td>3</td>\n",
       "      <td>1820</td>\n",
       "      <td>2000</td>\n",
       "      <td>0</td>\n",
       "      <td>98074</td>\n",
       "      <td>47.6338</td>\n",
       "      <td>-122.072</td>\n",
       "    </tr>\n",
       "    <tr>\n",
       "      <th>4</th>\n",
       "      <td>2123039032</td>\n",
       "      <td>10/27/14</td>\n",
       "      <td>369900</td>\n",
       "      <td>1</td>\n",
       "      <td>0.75</td>\n",
       "      <td>10079</td>\n",
       "      <td>1.0</td>\n",
       "      <td>1</td>\n",
       "      <td>4</td>\n",
       "      <td>5</td>\n",
       "      <td>0</td>\n",
       "      <td>1936</td>\n",
       "      <td>0</td>\n",
       "      <td>98070</td>\n",
       "      <td>47.4683</td>\n",
       "      <td>-122.438</td>\n",
       "    </tr>\n",
       "  </tbody>\n",
       "</table>\n",
       "</div>"
      ],
      "text/plain": [
       "           id      Date    price  bedrooms  bathrooms  sqft_lot  floors  \\\n",
       "0  2524049179  08/26/14  2000000         3       2.75     44867     1.0   \n",
       "1  7922800400  08/27/14   951000         5       3.25     14342     2.0   \n",
       "2  8096000060  04/13/15   655000         2       1.75     15798     2.0   \n",
       "3  2025069065  09/29/14  2400000         4       2.50      8354     1.0   \n",
       "4  2123039032  10/27/14   369900         1       0.75     10079     1.0   \n",
       "\n",
       "   waterfront  view  condition  sqft_basement  yr_built  yr_renovated  \\\n",
       "0           0     4          3            720      1968             0   \n",
       "1           0     4          4              0      1968             0   \n",
       "2           1     4          3            220      1915          1978   \n",
       "3           1     4          3           1820      2000             0   \n",
       "4           1     4          5              0      1936             0   \n",
       "\n",
       "   zipcode      lat     long  \n",
       "0    98040  47.5316 -122.233  \n",
       "1    98008  47.5880 -122.116  \n",
       "2    98166  47.4497 -122.375  \n",
       "3    98074  47.6338 -122.072  \n",
       "4    98070  47.4683 -122.438  "
      ]
     },
     "execution_count": 8,
     "metadata": {},
     "output_type": "execute_result"
    }
   ],
   "source": [
    "df.head()"
   ]
  },
  {
   "cell_type": "code",
   "execution_count": 9,
   "id": "1dc464d1",
   "metadata": {},
   "outputs": [],
   "source": [
    "for col in df.columns.tolist():\n",
    "      weird = (df[[col]].applymap(type) != df[[col]].iloc[0].apply(type)).any(axis = 1)\n",
    "      if len (df[weird]) > 0:\n",
    "        print (col)\n",
    "        \n",
    "# No mixed-type columns either!"
   ]
  },
  {
   "cell_type": "markdown",
   "id": "d8dc1614",
   "metadata": {},
   "source": [
    "## 3. Exploring Relationships"
   ]
  },
  {
   "cell_type": "code",
   "execution_count": 10,
   "id": "2007e71b",
   "metadata": {},
   "outputs": [
    {
     "data": {
      "text/html": [
       "<div>\n",
       "<style scoped>\n",
       "    .dataframe tbody tr th:only-of-type {\n",
       "        vertical-align: middle;\n",
       "    }\n",
       "\n",
       "    .dataframe tbody tr th {\n",
       "        vertical-align: top;\n",
       "    }\n",
       "\n",
       "    .dataframe thead th {\n",
       "        text-align: right;\n",
       "    }\n",
       "</style>\n",
       "<table border=\"1\" class=\"dataframe\">\n",
       "  <thead>\n",
       "    <tr style=\"text-align: right;\">\n",
       "      <th></th>\n",
       "      <th>id</th>\n",
       "      <th>price</th>\n",
       "      <th>bedrooms</th>\n",
       "      <th>bathrooms</th>\n",
       "      <th>sqft_lot</th>\n",
       "      <th>floors</th>\n",
       "      <th>waterfront</th>\n",
       "      <th>view</th>\n",
       "      <th>condition</th>\n",
       "      <th>sqft_basement</th>\n",
       "      <th>yr_built</th>\n",
       "      <th>yr_renovated</th>\n",
       "      <th>zipcode</th>\n",
       "      <th>lat</th>\n",
       "      <th>long</th>\n",
       "    </tr>\n",
       "  </thead>\n",
       "  <tbody>\n",
       "    <tr>\n",
       "      <th>id</th>\n",
       "      <td>1.000000</td>\n",
       "      <td>-0.018514</td>\n",
       "      <td>0.002020</td>\n",
       "      <td>0.004344</td>\n",
       "      <td>-0.132846</td>\n",
       "      <td>0.018057</td>\n",
       "      <td>-0.002746</td>\n",
       "      <td>0.010929</td>\n",
       "      <td>-0.024279</td>\n",
       "      <td>-0.005795</td>\n",
       "      <td>0.020933</td>\n",
       "      <td>-0.017178</td>\n",
       "      <td>-0.007948</td>\n",
       "      <td>-0.002859</td>\n",
       "      <td>0.019466</td>\n",
       "    </tr>\n",
       "    <tr>\n",
       "      <th>price</th>\n",
       "      <td>-0.018514</td>\n",
       "      <td>1.000000</td>\n",
       "      <td>0.316189</td>\n",
       "      <td>0.525453</td>\n",
       "      <td>0.088895</td>\n",
       "      <td>0.256278</td>\n",
       "      <td>0.266961</td>\n",
       "      <td>0.396933</td>\n",
       "      <td>0.035089</td>\n",
       "      <td>0.323552</td>\n",
       "      <td>0.052967</td>\n",
       "      <td>0.127002</td>\n",
       "      <td>-0.052171</td>\n",
       "      <td>0.306057</td>\n",
       "      <td>0.020571</td>\n",
       "    </tr>\n",
       "    <tr>\n",
       "      <th>bedrooms</th>\n",
       "      <td>0.002020</td>\n",
       "      <td>0.316189</td>\n",
       "      <td>1.000000</td>\n",
       "      <td>0.530217</td>\n",
       "      <td>0.032838</td>\n",
       "      <td>0.180932</td>\n",
       "      <td>-0.006714</td>\n",
       "      <td>0.081971</td>\n",
       "      <td>0.024810</td>\n",
       "      <td>0.309483</td>\n",
       "      <td>0.158791</td>\n",
       "      <td>0.019213</td>\n",
       "      <td>-0.158125</td>\n",
       "      <td>-0.011901</td>\n",
       "      <td>0.134314</td>\n",
       "    </tr>\n",
       "    <tr>\n",
       "      <th>bathrooms</th>\n",
       "      <td>0.004344</td>\n",
       "      <td>0.525453</td>\n",
       "      <td>0.530217</td>\n",
       "      <td>1.000000</td>\n",
       "      <td>0.087143</td>\n",
       "      <td>0.499863</td>\n",
       "      <td>0.063734</td>\n",
       "      <td>0.186684</td>\n",
       "      <td>-0.127839</td>\n",
       "      <td>0.283539</td>\n",
       "      <td>0.505092</td>\n",
       "      <td>0.051101</td>\n",
       "      <td>-0.202958</td>\n",
       "      <td>0.023444</td>\n",
       "      <td>0.221935</td>\n",
       "    </tr>\n",
       "    <tr>\n",
       "      <th>sqft_lot</th>\n",
       "      <td>-0.132846</td>\n",
       "      <td>0.088895</td>\n",
       "      <td>0.032838</td>\n",
       "      <td>0.087143</td>\n",
       "      <td>1.000000</td>\n",
       "      <td>-0.005950</td>\n",
       "      <td>0.021571</td>\n",
       "      <td>0.075012</td>\n",
       "      <td>-0.009298</td>\n",
       "      <td>0.015107</td>\n",
       "      <td>0.052447</td>\n",
       "      <td>0.007636</td>\n",
       "      <td>-0.129411</td>\n",
       "      <td>-0.085992</td>\n",
       "      <td>0.229555</td>\n",
       "    </tr>\n",
       "    <tr>\n",
       "      <th>floors</th>\n",
       "      <td>0.018057</td>\n",
       "      <td>0.256278</td>\n",
       "      <td>0.180932</td>\n",
       "      <td>0.499863</td>\n",
       "      <td>-0.005950</td>\n",
       "      <td>1.000000</td>\n",
       "      <td>0.023473</td>\n",
       "      <td>0.028211</td>\n",
       "      <td>-0.266543</td>\n",
       "      <td>-0.246066</td>\n",
       "      <td>0.489062</td>\n",
       "      <td>0.005626</td>\n",
       "      <td>-0.058108</td>\n",
       "      <td>0.049279</td>\n",
       "      <td>0.124285</td>\n",
       "    </tr>\n",
       "    <tr>\n",
       "      <th>waterfront</th>\n",
       "      <td>-0.002746</td>\n",
       "      <td>0.266961</td>\n",
       "      <td>-0.006714</td>\n",
       "      <td>0.063734</td>\n",
       "      <td>0.021571</td>\n",
       "      <td>0.023473</td>\n",
       "      <td>1.000000</td>\n",
       "      <td>0.403025</td>\n",
       "      <td>0.016607</td>\n",
       "      <td>0.080838</td>\n",
       "      <td>-0.026537</td>\n",
       "      <td>0.093025</td>\n",
       "      <td>0.030558</td>\n",
       "      <td>-0.014395</td>\n",
       "      <td>-0.042188</td>\n",
       "    </tr>\n",
       "    <tr>\n",
       "      <th>view</th>\n",
       "      <td>0.010929</td>\n",
       "      <td>0.396933</td>\n",
       "      <td>0.081971</td>\n",
       "      <td>0.186684</td>\n",
       "      <td>0.075012</td>\n",
       "      <td>0.028211</td>\n",
       "      <td>0.403025</td>\n",
       "      <td>1.000000</td>\n",
       "      <td>0.045051</td>\n",
       "      <td>0.276482</td>\n",
       "      <td>-0.055153</td>\n",
       "      <td>0.103633</td>\n",
       "      <td>0.087096</td>\n",
       "      <td>0.005671</td>\n",
       "      <td>-0.079720</td>\n",
       "    </tr>\n",
       "    <tr>\n",
       "      <th>condition</th>\n",
       "      <td>-0.024279</td>\n",
       "      <td>0.035089</td>\n",
       "      <td>0.024810</td>\n",
       "      <td>-0.127839</td>\n",
       "      <td>-0.009298</td>\n",
       "      <td>-0.266543</td>\n",
       "      <td>0.016607</td>\n",
       "      <td>0.045051</td>\n",
       "      <td>1.000000</td>\n",
       "      <td>0.174463</td>\n",
       "      <td>-0.364947</td>\n",
       "      <td>-0.061136</td>\n",
       "      <td>0.004509</td>\n",
       "      <td>-0.015402</td>\n",
       "      <td>-0.107780</td>\n",
       "    </tr>\n",
       "    <tr>\n",
       "      <th>sqft_basement</th>\n",
       "      <td>-0.005795</td>\n",
       "      <td>0.323552</td>\n",
       "      <td>0.309483</td>\n",
       "      <td>0.283539</td>\n",
       "      <td>0.015107</td>\n",
       "      <td>-0.246066</td>\n",
       "      <td>0.080838</td>\n",
       "      <td>0.276482</td>\n",
       "      <td>0.174463</td>\n",
       "      <td>1.000000</td>\n",
       "      <td>-0.134590</td>\n",
       "      <td>0.071909</td>\n",
       "      <td>0.075283</td>\n",
       "      <td>0.109208</td>\n",
       "      <td>-0.145846</td>\n",
       "    </tr>\n",
       "    <tr>\n",
       "      <th>yr_built</th>\n",
       "      <td>0.020933</td>\n",
       "      <td>0.052967</td>\n",
       "      <td>0.158791</td>\n",
       "      <td>0.505092</td>\n",
       "      <td>0.052447</td>\n",
       "      <td>0.489062</td>\n",
       "      <td>-0.026537</td>\n",
       "      <td>-0.055153</td>\n",
       "      <td>-0.364947</td>\n",
       "      <td>-0.134590</td>\n",
       "      <td>1.000000</td>\n",
       "      <td>-0.225697</td>\n",
       "      <td>-0.345819</td>\n",
       "      <td>-0.148606</td>\n",
       "      <td>0.408531</td>\n",
       "    </tr>\n",
       "    <tr>\n",
       "      <th>yr_renovated</th>\n",
       "      <td>-0.017178</td>\n",
       "      <td>0.127002</td>\n",
       "      <td>0.019213</td>\n",
       "      <td>0.051101</td>\n",
       "      <td>0.007636</td>\n",
       "      <td>0.005626</td>\n",
       "      <td>0.093025</td>\n",
       "      <td>0.103633</td>\n",
       "      <td>-0.061136</td>\n",
       "      <td>0.071909</td>\n",
       "      <td>-0.225697</td>\n",
       "      <td>1.000000</td>\n",
       "      <td>0.064347</td>\n",
       "      <td>0.029206</td>\n",
       "      <td>-0.068736</td>\n",
       "    </tr>\n",
       "    <tr>\n",
       "      <th>zipcode</th>\n",
       "      <td>-0.007948</td>\n",
       "      <td>-0.052171</td>\n",
       "      <td>-0.158125</td>\n",
       "      <td>-0.202958</td>\n",
       "      <td>-0.129411</td>\n",
       "      <td>-0.058108</td>\n",
       "      <td>0.030558</td>\n",
       "      <td>0.087096</td>\n",
       "      <td>0.004509</td>\n",
       "      <td>0.075283</td>\n",
       "      <td>-0.345819</td>\n",
       "      <td>0.064347</td>\n",
       "      <td>1.000000</td>\n",
       "      <td>0.267020</td>\n",
       "      <td>-0.564588</td>\n",
       "    </tr>\n",
       "    <tr>\n",
       "      <th>lat</th>\n",
       "      <td>-0.002859</td>\n",
       "      <td>0.306057</td>\n",
       "      <td>-0.011901</td>\n",
       "      <td>0.023444</td>\n",
       "      <td>-0.085992</td>\n",
       "      <td>0.049279</td>\n",
       "      <td>-0.014395</td>\n",
       "      <td>0.005671</td>\n",
       "      <td>-0.015402</td>\n",
       "      <td>0.109208</td>\n",
       "      <td>-0.148606</td>\n",
       "      <td>0.029206</td>\n",
       "      <td>0.267020</td>\n",
       "      <td>1.000000</td>\n",
       "      <td>-0.136369</td>\n",
       "    </tr>\n",
       "    <tr>\n",
       "      <th>long</th>\n",
       "      <td>0.019466</td>\n",
       "      <td>0.020571</td>\n",
       "      <td>0.134314</td>\n",
       "      <td>0.221935</td>\n",
       "      <td>0.229555</td>\n",
       "      <td>0.124285</td>\n",
       "      <td>-0.042188</td>\n",
       "      <td>-0.079720</td>\n",
       "      <td>-0.107780</td>\n",
       "      <td>-0.145846</td>\n",
       "      <td>0.408531</td>\n",
       "      <td>-0.068736</td>\n",
       "      <td>-0.564588</td>\n",
       "      <td>-0.136369</td>\n",
       "      <td>1.000000</td>\n",
       "    </tr>\n",
       "  </tbody>\n",
       "</table>\n",
       "</div>"
      ],
      "text/plain": [
       "                     id     price  bedrooms  bathrooms  sqft_lot    floors  \\\n",
       "id             1.000000 -0.018514  0.002020   0.004344 -0.132846  0.018057   \n",
       "price         -0.018514  1.000000  0.316189   0.525453  0.088895  0.256278   \n",
       "bedrooms       0.002020  0.316189  1.000000   0.530217  0.032838  0.180932   \n",
       "bathrooms      0.004344  0.525453  0.530217   1.000000  0.087143  0.499863   \n",
       "sqft_lot      -0.132846  0.088895  0.032838   0.087143  1.000000 -0.005950   \n",
       "floors         0.018057  0.256278  0.180932   0.499863 -0.005950  1.000000   \n",
       "waterfront    -0.002746  0.266961 -0.006714   0.063734  0.021571  0.023473   \n",
       "view           0.010929  0.396933  0.081971   0.186684  0.075012  0.028211   \n",
       "condition     -0.024279  0.035089  0.024810  -0.127839 -0.009298 -0.266543   \n",
       "sqft_basement -0.005795  0.323552  0.309483   0.283539  0.015107 -0.246066   \n",
       "yr_built       0.020933  0.052967  0.158791   0.505092  0.052447  0.489062   \n",
       "yr_renovated  -0.017178  0.127002  0.019213   0.051101  0.007636  0.005626   \n",
       "zipcode       -0.007948 -0.052171 -0.158125  -0.202958 -0.129411 -0.058108   \n",
       "lat           -0.002859  0.306057 -0.011901   0.023444 -0.085992  0.049279   \n",
       "long           0.019466  0.020571  0.134314   0.221935  0.229555  0.124285   \n",
       "\n",
       "               waterfront      view  condition  sqft_basement  yr_built  \\\n",
       "id              -0.002746  0.010929  -0.024279      -0.005795  0.020933   \n",
       "price            0.266961  0.396933   0.035089       0.323552  0.052967   \n",
       "bedrooms        -0.006714  0.081971   0.024810       0.309483  0.158791   \n",
       "bathrooms        0.063734  0.186684  -0.127839       0.283539  0.505092   \n",
       "sqft_lot         0.021571  0.075012  -0.009298       0.015107  0.052447   \n",
       "floors           0.023473  0.028211  -0.266543      -0.246066  0.489062   \n",
       "waterfront       1.000000  0.403025   0.016607       0.080838 -0.026537   \n",
       "view             0.403025  1.000000   0.045051       0.276482 -0.055153   \n",
       "condition        0.016607  0.045051   1.000000       0.174463 -0.364947   \n",
       "sqft_basement    0.080838  0.276482   0.174463       1.000000 -0.134590   \n",
       "yr_built        -0.026537 -0.055153  -0.364947      -0.134590  1.000000   \n",
       "yr_renovated     0.093025  0.103633  -0.061136       0.071909 -0.225697   \n",
       "zipcode          0.030558  0.087096   0.004509       0.075283 -0.345819   \n",
       "lat             -0.014395  0.005671  -0.015402       0.109208 -0.148606   \n",
       "long            -0.042188 -0.079720  -0.107780      -0.145846  0.408531   \n",
       "\n",
       "               yr_renovated   zipcode       lat      long  \n",
       "id                -0.017178 -0.007948 -0.002859  0.019466  \n",
       "price              0.127002 -0.052171  0.306057  0.020571  \n",
       "bedrooms           0.019213 -0.158125 -0.011901  0.134314  \n",
       "bathrooms          0.051101 -0.202958  0.023444  0.221935  \n",
       "sqft_lot           0.007636 -0.129411 -0.085992  0.229555  \n",
       "floors             0.005626 -0.058108  0.049279  0.124285  \n",
       "waterfront         0.093025  0.030558 -0.014395 -0.042188  \n",
       "view               0.103633  0.087096  0.005671 -0.079720  \n",
       "condition         -0.061136  0.004509 -0.015402 -0.107780  \n",
       "sqft_basement      0.071909  0.075283  0.109208 -0.145846  \n",
       "yr_built          -0.225697 -0.345819 -0.148606  0.408531  \n",
       "yr_renovated       1.000000  0.064347  0.029206 -0.068736  \n",
       "zipcode            0.064347  1.000000  0.267020 -0.564588  \n",
       "lat                0.029206  0.267020  1.000000 -0.136369  \n",
       "long              -0.068736 -0.564588 -0.136369  1.000000  "
      ]
     },
     "execution_count": 10,
     "metadata": {},
     "output_type": "execute_result"
    }
   ],
   "source": [
    "df.corr()"
   ]
  },
  {
   "cell_type": "markdown",
   "id": "d59cafec",
   "metadata": {},
   "source": [
    "### Correlation Maps"
   ]
  },
  {
   "cell_type": "code",
   "execution_count": 11,
   "id": "2a773f84",
   "metadata": {},
   "outputs": [
    {
     "data": {
      "image/png": "[encoded data removed]",
      "text/plain": [
       "<Figure size 480x480 with 1 Axes>"
      ]
     },
     "metadata": {},
     "output_type": "display_data"
    }
   ],
   "source": [
    "# Create a correlation heatmap using matplotlib\n",
    "\n",
    "plt.matshow(df.corr())\n",
    "plt.show()"
   ]
  },
  {
   "cell_type": "code",
   "execution_count": 12,
   "id": "b3b4032c",
   "metadata": {},
   "outputs": [
    {
     "data": {
      "text/plain": [
       "Text(0.5, 1.0, 'Correlation Matrix')"
      ]
     },
     "execution_count": 12,
     "metadata": {},
     "output_type": "execute_result"
    },
    {
     "data": {
      "image/png": "[encoded data removed]",
      "text/plain": [
       "<Figure size 800x800 with 2 Axes>"
      ]
     },
     "metadata": {},
     "output_type": "display_data"
    }
   ],
   "source": [
    "# Add labels, a legend, and change the size of the heatmap\n",
    "\n",
    "f = plt.figure(figsize=(8, 8)) # figure size \n",
    "plt.matshow(df.corr(), fignum=f.number) # type of plot\n",
    "plt.xticks(range(df.shape[1]), df.columns, fontsize=10, rotation=45) # x axis labels\n",
    "plt.yticks(range(df.shape[1]), df.columns, fontsize=10) # y axis labels\n",
    "cb = plt.colorbar() # add a colour legend (called colorbar)\n",
    "cb.ax.tick_params(labelsize=14) # add font size\n",
    "plt.title('Correlation Matrix', fontsize=14) # add title"
   ]
  },
  {
   "cell_type": "markdown",
   "id": "d070b4aa",
   "metadata": {},
   "source": [
    "When looking at the above visual it helps us quickly identify some correlations between the variables. When following the light green pattern to yellow we see correlations between bedrooms, bathrooms, and sqft_lot. We will need to explore these further."
   ]
  },
  {
   "cell_type": "code",
   "execution_count": 13,
   "id": "d99a31cf",
   "metadata": {},
   "outputs": [
    {
     "ename": "KeyError",
     "evalue": "\"[' price '] not in index\"",
     "output_type": "error",
     "traceback": [
      "\u001b[1;31m---------------------------------------------------------------------------\u001b[0m",
      "\u001b[1;31mKeyError\u001b[0m                                  Traceback (most recent call last)",
      "\u001b[1;32m~\\AppData\\Local\\Temp\\ipykernel_18704\\162046022.py\u001b[0m in \u001b[0;36m<module>\u001b[1;34m\u001b[0m\n\u001b[0;32m      1\u001b[0m \u001b[1;31m# Create a subset excluding the \"Date\" and \"id columns\u001b[0m\u001b[1;33m\u001b[0m\u001b[1;33m\u001b[0m\u001b[0m\n\u001b[0;32m      2\u001b[0m \u001b[1;33m\u001b[0m\u001b[0m\n\u001b[1;32m----> 3\u001b[1;33m sub = df[[' price ', 'bedrooms', 'bathrooms', 'sqft_lot', 'floors',\n\u001b[0m\u001b[0;32m      4\u001b[0m        \u001b[1;34m'waterfront'\u001b[0m\u001b[1;33m,\u001b[0m \u001b[1;34m'view'\u001b[0m\u001b[1;33m,\u001b[0m \u001b[1;34m'condition'\u001b[0m\u001b[1;33m,\u001b[0m \u001b[1;34m'sqft_basement'\u001b[0m\u001b[1;33m,\u001b[0m \u001b[1;34m'yr_built'\u001b[0m\u001b[1;33m,\u001b[0m\u001b[1;33m\u001b[0m\u001b[1;33m\u001b[0m\u001b[0m\n\u001b[0;32m      5\u001b[0m        'yr_renovated', 'zipcode', 'lat', 'long']]\n",
      "\u001b[1;32m~\\anaconda3\\lib\\site-packages\\pandas\\core\\frame.py\u001b[0m in \u001b[0;36m__getitem__\u001b[1;34m(self, key)\u001b[0m\n\u001b[0;32m   3509\u001b[0m             \u001b[1;32mif\u001b[0m \u001b[0mis_iterator\u001b[0m\u001b[1;33m(\u001b[0m\u001b[0mkey\u001b[0m\u001b[1;33m)\u001b[0m\u001b[1;33m:\u001b[0m\u001b[1;33m\u001b[0m\u001b[1;33m\u001b[0m\u001b[0m\n\u001b[0;32m   3510\u001b[0m                 \u001b[0mkey\u001b[0m \u001b[1;33m=\u001b[0m \u001b[0mlist\u001b[0m\u001b[1;33m(\u001b[0m\u001b[0mkey\u001b[0m\u001b[1;33m)\u001b[0m\u001b[1;33m\u001b[0m\u001b[1;33m\u001b[0m\u001b[0m\n\u001b[1;32m-> 3511\u001b[1;33m             \u001b[0mindexer\u001b[0m \u001b[1;33m=\u001b[0m \u001b[0mself\u001b[0m\u001b[1;33m.\u001b[0m\u001b[0mcolumns\u001b[0m\u001b[1;33m.\u001b[0m\u001b[0m_get_indexer_strict\u001b[0m\u001b[1;33m(\u001b[0m\u001b[0mkey\u001b[0m\u001b[1;33m,\u001b[0m \u001b[1;34m\"columns\"\u001b[0m\u001b[1;33m)\u001b[0m\u001b[1;33m[\u001b[0m\u001b[1;36m1\u001b[0m\u001b[1;33m]\u001b[0m\u001b[1;33m\u001b[0m\u001b[1;33m\u001b[0m\u001b[0m\n\u001b[0m\u001b[0;32m   3512\u001b[0m \u001b[1;33m\u001b[0m\u001b[0m\n\u001b[0;32m   3513\u001b[0m         \u001b[1;31m# take() does not accept boolean indexers\u001b[0m\u001b[1;33m\u001b[0m\u001b[1;33m\u001b[0m\u001b[0m\n",
      "\u001b[1;32m~\\anaconda3\\lib\\site-packages\\pandas\\core\\indexes\\base.py\u001b[0m in \u001b[0;36m_get_indexer_strict\u001b[1;34m(self, key, axis_name)\u001b[0m\n\u001b[0;32m   5794\u001b[0m             \u001b[0mkeyarr\u001b[0m\u001b[1;33m,\u001b[0m \u001b[0mindexer\u001b[0m\u001b[1;33m,\u001b[0m \u001b[0mnew_indexer\u001b[0m \u001b[1;33m=\u001b[0m \u001b[0mself\u001b[0m\u001b[1;33m.\u001b[0m\u001b[0m_reindex_non_unique\u001b[0m\u001b[1;33m(\u001b[0m\u001b[0mkeyarr\u001b[0m\u001b[1;33m)\u001b[0m\u001b[1;33m\u001b[0m\u001b[1;33m\u001b[0m\u001b[0m\n\u001b[0;32m   5795\u001b[0m \u001b[1;33m\u001b[0m\u001b[0m\n\u001b[1;32m-> 5796\u001b[1;33m         \u001b[0mself\u001b[0m\u001b[1;33m.\u001b[0m\u001b[0m_raise_if_missing\u001b[0m\u001b[1;33m(\u001b[0m\u001b[0mkeyarr\u001b[0m\u001b[1;33m,\u001b[0m \u001b[0mindexer\u001b[0m\u001b[1;33m,\u001b[0m \u001b[0maxis_name\u001b[0m\u001b[1;33m)\u001b[0m\u001b[1;33m\u001b[0m\u001b[1;33m\u001b[0m\u001b[0m\n\u001b[0m\u001b[0;32m   5797\u001b[0m \u001b[1;33m\u001b[0m\u001b[0m\n\u001b[0;32m   5798\u001b[0m         \u001b[0mkeyarr\u001b[0m \u001b[1;33m=\u001b[0m \u001b[0mself\u001b[0m\u001b[1;33m.\u001b[0m\u001b[0mtake\u001b[0m\u001b[1;33m(\u001b[0m\u001b[0mindexer\u001b[0m\u001b[1;33m)\u001b[0m\u001b[1;33m\u001b[0m\u001b[1;33m\u001b[0m\u001b[0m\n",
      "\u001b[1;32m~\\anaconda3\\lib\\site-packages\\pandas\\core\\indexes\\base.py\u001b[0m in \u001b[0;36m_raise_if_missing\u001b[1;34m(self, key, indexer, axis_name)\u001b[0m\n\u001b[0;32m   5857\u001b[0m \u001b[1;33m\u001b[0m\u001b[0m\n\u001b[0;32m   5858\u001b[0m             \u001b[0mnot_found\u001b[0m \u001b[1;33m=\u001b[0m \u001b[0mlist\u001b[0m\u001b[1;33m(\u001b[0m\u001b[0mensure_index\u001b[0m\u001b[1;33m(\u001b[0m\u001b[0mkey\u001b[0m\u001b[1;33m)\u001b[0m\u001b[1;33m[\u001b[0m\u001b[0mmissing_mask\u001b[0m\u001b[1;33m.\u001b[0m\u001b[0mnonzero\u001b[0m\u001b[1;33m(\u001b[0m\u001b[1;33m)\u001b[0m\u001b[1;33m[\u001b[0m\u001b[1;36m0\u001b[0m\u001b[1;33m]\u001b[0m\u001b[1;33m]\u001b[0m\u001b[1;33m.\u001b[0m\u001b[0munique\u001b[0m\u001b[1;33m(\u001b[0m\u001b[1;33m)\u001b[0m\u001b[1;33m)\u001b[0m\u001b[1;33m\u001b[0m\u001b[1;33m\u001b[0m\u001b[0m\n\u001b[1;32m-> 5859\u001b[1;33m             \u001b[1;32mraise\u001b[0m \u001b[0mKeyError\u001b[0m\u001b[1;33m(\u001b[0m\u001b[1;34mf\"{not_found} not in index\"\u001b[0m\u001b[1;33m)\u001b[0m\u001b[1;33m\u001b[0m\u001b[1;33m\u001b[0m\u001b[0m\n\u001b[0m\u001b[0;32m   5860\u001b[0m \u001b[1;33m\u001b[0m\u001b[0m\n\u001b[0;32m   5861\u001b[0m     \u001b[1;33m@\u001b[0m\u001b[0moverload\u001b[0m\u001b[1;33m\u001b[0m\u001b[1;33m\u001b[0m\u001b[0m\n",
      "\u001b[1;31mKeyError\u001b[0m: \"[' price '] not in index\""
     ]
    }
   ],
   "source": [
    "# Create a subset excluding the \"Date\" and \"id columns\n",
    "\n",
    "sub = df[[' price ', 'bedrooms', 'bathrooms', 'sqft_lot', 'floors',\n",
    "       'waterfront', 'view', 'condition', 'sqft_basement', 'yr_built',\n",
    "       'yr_renovated', 'zipcode', 'lat', 'long']]"
   ]
  },
  {
   "cell_type": "code",
   "execution_count": null,
   "id": "9dea89f9",
   "metadata": {},
   "outputs": [],
   "source": [
    "sub"
   ]
  },
  {
   "cell_type": "code",
   "execution_count": null,
   "id": "bf5b86b4",
   "metadata": {},
   "outputs": [],
   "source": [
    "# Create a subplot with matplotlib\n",
    "f,ax = plt.subplots(figsize=(10,10))\n",
    "\n",
    "# Create the correlation heatmap in seaborn by applying a heatmap onto the correlation matrix and the subplots defined above.\n",
    "corr = sns.heatmap(sub.corr(), annot = True, ax = ax)"
   ]
  },
  {
   "cell_type": "markdown",
   "id": "bb1a6705",
   "metadata": {},
   "source": [
    "When reviewing the above visual, It shows us the same correlations as before. Price, bedrooms, bathrooms are all relationships we need to further investigate. Floors/ bathrooms also has a coefficent of .5 so we can also investigte this relationship. "
   ]
  },
  {
   "cell_type": "markdown",
   "id": "14acff11",
   "metadata": {},
   "source": [
    "### Scatterplots"
   ]
  },
  {
   "cell_type": "code",
   "execution_count": null,
   "id": "f28fe5d2",
   "metadata": {},
   "outputs": [],
   "source": [
    "# Create a scatterplot for the \"price\" and \"bathrooms\" columns in seaborn\n",
    "\n",
    "sns.lmplot(x = ' price ', y = 'bathrooms', data = df)"
   ]
  },
  {
   "cell_type": "code",
   "execution_count": null,
   "id": "33d6a1f0",
   "metadata": {},
   "outputs": [],
   "source": [
    "# Create a scatterplot for the \"price\" and \"bedrooms\" columns in seaborn\n",
    "\n",
    "sns.lmplot(x = ' price ', y = 'bedrooms', data = df)"
   ]
  },
  {
   "cell_type": "markdown",
   "id": "7d50afcd",
   "metadata": {},
   "source": [
    "### Pair Plots"
   ]
  },
  {
   "cell_type": "code",
   "execution_count": null,
   "id": "8b289909",
   "metadata": {},
   "outputs": [],
   "source": [
    "# Keep only the variables you want to use in the pair plot\n",
    "\n",
    "sub_2 = sub[[' price ', 'bathrooms', 'bedrooms', 'yr_built']]"
   ]
  },
  {
   "cell_type": "code",
   "execution_count": null,
   "id": "ce3241c6",
   "metadata": {},
   "outputs": [],
   "source": [
    "# Create a pair plot \n",
    "\n",
    "g = sns.pairplot(sub_2)"
   ]
  },
  {
   "cell_type": "markdown",
   "id": "d7eab9a4",
   "metadata": {},
   "source": [
    "When viewing the above visuals, I would eliminate yr_built as a correlation coefficinet as the relatiosnhip is not very strong. However bathrooms and bedrooms continue to have a strong correlation with price."
   ]
  },
  {
   "cell_type": "markdown",
   "id": "ce2a6185",
   "metadata": {},
   "source": [
    "### Categorical Plots"
   ]
  },
  {
   "cell_type": "code",
   "execution_count": null,
   "id": "c5d85358",
   "metadata": {},
   "outputs": [],
   "source": [
    "# Use a histogram to visualize the distribution of the variables. \n",
    "\n",
    "sns.histplot(df[' price '], bins = 40, kde = True)"
   ]
  },
  {
   "cell_type": "code",
   "execution_count": null,
   "id": "aa37b31a",
   "metadata": {},
   "outputs": [],
   "source": [
    "df.loc[df[' price '] < 322050, 'Price category'] = 'Low price'\n",
    "df.loc[(df[' price '] >= 322050) & (df[' price '] < 540842), 'Price category'] = 'Middle price'\n",
    "df.loc[df[' price '] >= 540842, 'Price category'] = 'High price'\n"
   ]
  },
  {
   "cell_type": "code",
   "execution_count": null,
   "id": "c41f1c5b",
   "metadata": {},
   "outputs": [],
   "source": [
    "df['Price category'].value_counts(dropna = False)\n"
   ]
  },
  {
   "cell_type": "code",
   "execution_count": null,
   "id": "c2474614",
   "metadata": {},
   "outputs": [],
   "source": [
    "# Create a categorical plot in seaborn using the price categories created above\n",
    "\n",
    "sns.set(style=\"ticks\")\n",
    "g = sns.catplot(x=\"bedrooms\", y=\" price \", hue=\"Price category\", data=df)\n"
   ]
  },
  {
   "cell_type": "markdown",
   "id": "0b4998ad",
   "metadata": {},
   "source": [
    "There is a positive upward correlation between price and number of bedrooms. "
   ]
  },
  {
   "cell_type": "code",
   "execution_count": null,
   "id": "dc4b4ded",
   "metadata": {},
   "outputs": [],
   "source": [
    "# Create a categorical plot in seaborn using the price categories created above\n",
    "\n",
    "sns.set(style=\"ticks\")\n",
    "g = sns.catplot(x=\"bathrooms\", y=\" price \", hue=\"Price category\", data=df)"
   ]
  },
  {
   "cell_type": "markdown",
   "id": "78ff1edb",
   "metadata": {},
   "source": [
    "There is a positive upward correlation between price and number of bathrooms. "
   ]
  },
  {
   "cell_type": "markdown",
   "id": "a9f066eb",
   "metadata": {},
   "source": [
    "### Export"
   ]
  },
  {
   "cell_type": "code",
   "execution_count": null,
   "id": "0ea71bb5",
   "metadata": {},
   "outputs": [],
   "source": [
    "# Save figure\n",
    "plt.matshow(df.corr())\n",
    "plt.savefig(\"out.png\") "
   ]
  },
  {
   "cell_type": "code",
   "execution_count": null,
   "id": "507c9c31",
   "metadata": {},
   "outputs": [],
   "source": []
  }
 ],
 "metadata": {
  "kernelspec": {
   "display_name": "Python 3 (ipykernel)",
   "language": "python",
   "name": "python3"
  },
  "language_info": {
   "codemirror_mode": {
    "name": "ipython",
    "version": 3
   },
   "file_extension": ".py",
   "mimetype": "text/x-python",
   "name": "python",
   "nbconvert_exporter": "python",
   "pygments_lexer": "ipython3",
   "version": "3.9.13"
  }
 },
 "nbformat": 4,
 "nbformat_minor": 5
}
